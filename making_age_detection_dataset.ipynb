{
  "nbformat": 4,
  "nbformat_minor": 0,
  "metadata": {
    "colab": {
      "name": "making-age-detection-dataset.ipynb",
      "provenance": [],
      "collapsed_sections": []
    },
    "kernelspec": {
      "name": "python3",
      "display_name": "Python 3"
    },
    "accelerator": "GPU"
  },
  "cells": [
    {
      "cell_type": "code",
      "metadata": {
        "id": "A9fAcSCGhwxF",
        "colab_type": "code",
        "colab": {
          "base_uri": "https://localhost:8080/",
          "height": 70
        },
        "outputId": "d72d3c67-85b8-4215-a1a4-d900bc52b6a4"
      },
      "source": [
        "import pandas as pd\n",
        "import numpy as np\n",
        "import os\n",
        "import zipfile as zf\n",
        "import imutils\n",
        "import shutil\n",
        "\n",
        "from imutils import build_montages,paths\n"
      ],
      "execution_count": 1,
      "outputs": [
        {
          "output_type": "stream",
          "text": [
            "/usr/local/lib/python3.6/dist-packages/statsmodels/tools/_testing.py:19: FutureWarning: pandas.util.testing is deprecated. Use the functions in the public API at pandas.testing instead.\n",
            "  import pandas.util.testing as tm\n"
          ],
          "name": "stderr"
        }
      ]
    },
    {
      "cell_type": "code",
      "metadata": {
        "id": "lfTwrcCbaOIu",
        "colab_type": "code",
        "outputId": "da2c9055-68fa-4770-a6e8-35262c79bf21",
        "colab": {
          "base_uri": "https://localhost:8080/",
          "height": 34
        }
      },
      "source": [
        "os.getcwd()"
      ],
      "execution_count": 2,
      "outputs": [
        {
          "output_type": "execute_result",
          "data": {
            "text/plain": [
              "'/content'"
            ]
          },
          "metadata": {
            "tags": []
          },
          "execution_count": 2
        }
      ]
    },
    {
      "cell_type": "code",
      "metadata": {
        "id": "REzLcnAWarSM",
        "colab_type": "code",
        "colab": {}
      },
      "source": [
        "data_dir = '/content/Data/'\n",
        "os.mkdir(data_dir)"
      ],
      "execution_count": 0,
      "outputs": []
    },
    {
      "cell_type": "code",
      "metadata": {
        "id": "BwQCPrz2aS01",
        "colab_type": "code",
        "colab": {}
      },
      "source": [
        "os.mkdir(data_dir+'YOUNG/')\n",
        "os.mkdir(data_dir+'MIDDLE/')\n",
        "os.mkdir(data_dir+'OLD/')"
      ],
      "execution_count": 0,
      "outputs": []
    },
    {
      "cell_type": "code",
      "metadata": {
        "id": "fkL1m9bwyFrB",
        "colab_type": "code",
        "colab": {}
      },
      "source": [
        "handle_train = zf.ZipFile(r'/content/Train.zip')\n",
        "handle_train.extractall('/content/train')\n",
        "handle_train.close()\n",
        "\n",
        "handle_test = zf.ZipFile(r'/content/Test.zip')\n",
        "handle_test.extractall('/content/test')\n",
        "handle_test.close()"
      ],
      "execution_count": 0,
      "outputs": []
    },
    {
      "cell_type": "code",
      "metadata": {
        "id": "lAaQFyUiypgT",
        "colab_type": "code",
        "colab": {}
      },
      "source": [
        "train_images = os.listdir('/content/train/Train/')\n",
        "test_images = os.listdir('/content/test/Test/')\n",
        "\n",
        "fp_train_images = '/content/train/Train/'\n",
        "fp_test_images = '/content/test/Test/'\n"
      ],
      "execution_count": 0,
      "outputs": []
    },
    {
      "cell_type": "code",
      "metadata": {
        "id": "RVhtpgEOQ57e",
        "colab_type": "code",
        "colab": {}
      },
      "source": [
        "#19906 train images -> 15000 train + 400 test + 906 validate\n",
        "#6636 test images"
      ],
      "execution_count": 0,
      "outputs": []
    },
    {
      "cell_type": "code",
      "metadata": {
        "id": "ssjBcp0ozODT",
        "colab_type": "code",
        "outputId": "edc1702c-9d60-40d4-ba73-a66a936528af",
        "colab": {
          "base_uri": "https://localhost:8080/",
          "height": 195
        }
      },
      "source": [
        "df_train = pd.read_csv('/content/train.csv')\n",
        "df_train.head(5)"
      ],
      "execution_count": 13,
      "outputs": [
        {
          "output_type": "execute_result",
          "data": {
            "text/html": [
              "<div>\n",
              "<style scoped>\n",
              "    .dataframe tbody tr th:only-of-type {\n",
              "        vertical-align: middle;\n",
              "    }\n",
              "\n",
              "    .dataframe tbody tr th {\n",
              "        vertical-align: top;\n",
              "    }\n",
              "\n",
              "    .dataframe thead th {\n",
              "        text-align: right;\n",
              "    }\n",
              "</style>\n",
              "<table border=\"1\" class=\"dataframe\">\n",
              "  <thead>\n",
              "    <tr style=\"text-align: right;\">\n",
              "      <th></th>\n",
              "      <th>ID</th>\n",
              "      <th>Class</th>\n",
              "    </tr>\n",
              "  </thead>\n",
              "  <tbody>\n",
              "    <tr>\n",
              "      <th>0</th>\n",
              "      <td>377.jpg</td>\n",
              "      <td>MIDDLE</td>\n",
              "    </tr>\n",
              "    <tr>\n",
              "      <th>1</th>\n",
              "      <td>17814.jpg</td>\n",
              "      <td>YOUNG</td>\n",
              "    </tr>\n",
              "    <tr>\n",
              "      <th>2</th>\n",
              "      <td>21283.jpg</td>\n",
              "      <td>MIDDLE</td>\n",
              "    </tr>\n",
              "    <tr>\n",
              "      <th>3</th>\n",
              "      <td>16496.jpg</td>\n",
              "      <td>YOUNG</td>\n",
              "    </tr>\n",
              "    <tr>\n",
              "      <th>4</th>\n",
              "      <td>4487.jpg</td>\n",
              "      <td>MIDDLE</td>\n",
              "    </tr>\n",
              "  </tbody>\n",
              "</table>\n",
              "</div>"
            ],
            "text/plain": [
              "          ID   Class\n",
              "0    377.jpg  MIDDLE\n",
              "1  17814.jpg   YOUNG\n",
              "2  21283.jpg  MIDDLE\n",
              "3  16496.jpg   YOUNG\n",
              "4   4487.jpg  MIDDLE"
            ]
          },
          "metadata": {
            "tags": []
          },
          "execution_count": 13
        }
      ]
    },
    {
      "cell_type": "code",
      "metadata": {
        "id": "qMleW9CHV6Na",
        "colab_type": "code",
        "outputId": "5de19552-74d6-4300-fe01-7c752a2bec62",
        "colab": {
          "base_uri": "https://localhost:8080/",
          "height": 84
        }
      },
      "source": [
        "df_train['Class'].value_counts()"
      ],
      "execution_count": 9,
      "outputs": [
        {
          "output_type": "execute_result",
          "data": {
            "text/plain": [
              "MIDDLE    10804\n",
              "YOUNG      6706\n",
              "OLD        2396\n",
              "Name: Class, dtype: int64"
            ]
          },
          "metadata": {
            "tags": []
          },
          "execution_count": 9
        }
      ]
    },
    {
      "cell_type": "code",
      "metadata": {
        "id": "ZQSsphI9zQzu",
        "colab_type": "code",
        "outputId": "713be329-fea2-4c81-d4ce-6563f723fdc3",
        "colab": {
          "base_uri": "https://localhost:8080/",
          "height": 195
        }
      },
      "source": [
        "sample_submn = pd.read_csv('/content/sample_submission_sDO3m7O.csv')\n",
        "sample_submn.head()"
      ],
      "execution_count": 10,
      "outputs": [
        {
          "output_type": "execute_result",
          "data": {
            "text/html": [
              "<div>\n",
              "<style scoped>\n",
              "    .dataframe tbody tr th:only-of-type {\n",
              "        vertical-align: middle;\n",
              "    }\n",
              "\n",
              "    .dataframe tbody tr th {\n",
              "        vertical-align: top;\n",
              "    }\n",
              "\n",
              "    .dataframe thead th {\n",
              "        text-align: right;\n",
              "    }\n",
              "</style>\n",
              "<table border=\"1\" class=\"dataframe\">\n",
              "  <thead>\n",
              "    <tr style=\"text-align: right;\">\n",
              "      <th></th>\n",
              "      <th>Class</th>\n",
              "      <th>ID</th>\n",
              "    </tr>\n",
              "  </thead>\n",
              "  <tbody>\n",
              "    <tr>\n",
              "      <th>0</th>\n",
              "      <td>MIDDLE</td>\n",
              "      <td>25321.jpg</td>\n",
              "    </tr>\n",
              "    <tr>\n",
              "      <th>1</th>\n",
              "      <td>MIDDLE</td>\n",
              "      <td>989.jpg</td>\n",
              "    </tr>\n",
              "    <tr>\n",
              "      <th>2</th>\n",
              "      <td>MIDDLE</td>\n",
              "      <td>19277.jpg</td>\n",
              "    </tr>\n",
              "    <tr>\n",
              "      <th>3</th>\n",
              "      <td>MIDDLE</td>\n",
              "      <td>13093.jpg</td>\n",
              "    </tr>\n",
              "    <tr>\n",
              "      <th>4</th>\n",
              "      <td>MIDDLE</td>\n",
              "      <td>5367.jpg</td>\n",
              "    </tr>\n",
              "  </tbody>\n",
              "</table>\n",
              "</div>"
            ],
            "text/plain": [
              "    Class         ID\n",
              "0  MIDDLE  25321.jpg\n",
              "1  MIDDLE    989.jpg\n",
              "2  MIDDLE  19277.jpg\n",
              "3  MIDDLE  13093.jpg\n",
              "4  MIDDLE   5367.jpg"
            ]
          },
          "metadata": {
            "tags": []
          },
          "execution_count": 10
        }
      ]
    },
    {
      "cell_type": "code",
      "metadata": {
        "id": "fAfxZ7l4_-fc",
        "colab_type": "code",
        "colab": {}
      },
      "source": [
        "middle_path = '/content/Data/MIDDLE/'\n",
        "old_path = '/content/Data/OLD/'\n",
        "young_path = '/content/Data/YOUNG/'"
      ],
      "execution_count": 0,
      "outputs": []
    },
    {
      "cell_type": "code",
      "metadata": {
        "id": "JQageL-Z_-dA",
        "colab_type": "code",
        "colab": {}
      },
      "source": [
        "for index,row in df_train.iterrows():\n",
        "  category = row['Class']\n",
        "  shutil.move(fp_train_images+row[\"ID\"],data_dir+category)"
      ],
      "execution_count": 0,
      "outputs": []
    },
    {
      "cell_type": "code",
      "metadata": {
        "id": "4xlHW3vj_-as",
        "colab_type": "code",
        "colab": {}
      },
      "source": [
        "(list(paths.list_files('/content/Data/')))"
      ],
      "execution_count": 0,
      "outputs": []
    },
    {
      "cell_type": "code",
      "metadata": {
        "id": "A8pcYSLi_-Wd",
        "colab_type": "code",
        "colab": {}
      },
      "source": [
        "!zip -r /content/datafile.zip /content/Data"
      ],
      "execution_count": 0,
      "outputs": []
    },
    {
      "cell_type": "code",
      "metadata": {
        "id": "NDh-pnkH8VwI",
        "colab_type": "code",
        "colab": {}
      },
      "source": [
        ""
      ],
      "execution_count": 0,
      "outputs": []
    }
  ]
}